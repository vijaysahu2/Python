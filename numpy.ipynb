{
 "cells": [
  {
   "cell_type": "code",
   "execution_count": 14,
   "id": "b461a0dc",
   "metadata": {},
   "outputs": [
    {
     "name": "stdout",
     "output_type": "stream",
     "text": [
      "Array with Rank 1: \n",
      " ['2' '3' '4' 'reur0wer' '1.2']\n",
      "Array with Rank 2: \n",
      " [list([2, 3, 4]) list([839, 'fdssd'])]\n",
      "Array with Rank 2: \n",
      " [1 2]\n"
     ]
    },
    {
     "name": "stderr",
     "output_type": "stream",
     "text": [
      "<ipython-input-14-ebb894c1706a>:8: VisibleDeprecationWarning: Creating an ndarray from ragged nested sequences (which is a list-or-tuple of lists-or-tuples-or ndarrays with different lengths or shapes) is deprecated. If you meant to do this, you must specify 'dtype=object' when creating the ndarray.\n",
      "  arr = np.array([[2,3,4],[839,'fdssd']])\n"
     ]
    }
   ],
   "source": [
    "# Python program for\n",
    "# Creation of Arrays\n",
    "import numpy as np\n",
    "\n",
    "arr = np.array([2,3,4,'reur0wer','1.2'])\n",
    "\n",
    "print(\"Array with Rank 1: \\n\",arr)\n",
    "arr = np.array([[2,3,4],[839,'fdssd']])\n",
    "print(\"Array with Rank 2: \\n\",arr)\n",
    "\n",
    "arr = np.array((1,2))\n",
    "print(\"Array with Rank 2: \\n\",arr)"
   ]
  },
  {
   "cell_type": "code",
   "execution_count": 30,
   "id": "6d172f7a",
   "metadata": {},
   "outputs": [
    {
     "name": "stdout",
     "output_type": "stream",
     "text": [
      "Array with Rank 1: \n",
      " [[  6  49   7]\n",
      " [373  95   9]]\n",
      "Fetch first element: \n",
      " [ 6 49  7]\n",
      "Fetch second element: \n",
      " [373  95   9]\n",
      "Fetch seconnd item of first element: \n",
      " 49\n",
      "Fetch seconnd item of second element: \n",
      " 95\n",
      "Array with Rank 1: \n",
      " [ 6 49  7]\n",
      "fetch first element: \n",
      " 6\n",
      "fetch second element: \n",
      " 49\n",
      "fetch third element: \n",
      " 7\n",
      "Array with Rank 1: \n",
      " ['6' '49' 'ddsdss']\n",
      "fetch first element: \n",
      " 6\n",
      "fetch second element: \n",
      " 49\n",
      "fetch third element: \n",
      " ddsdss\n",
      "Array with Rank 1: \n",
      " [6 7]\n"
     ]
    }
   ],
   "source": [
    "#slicing a array\n",
    "import numpy as np\n",
    "\n",
    "arr = np.array([[6,49,7],[373,95,9]])\n",
    "\n",
    "print(\"Array with Rank 1: \\n\",arr)\n",
    "\n",
    "print(\"Fetch first element: \\n\",arr[0])\n",
    "\n",
    "print(\"Fetch second element: \\n\",arr[1])\n",
    "\n",
    "print(\"Fetch seconnd item of first element: \\n\",arr[0][1])\n",
    "\n",
    "print(\"Fetch seconnd item of second element: \\n\",arr[1][1])\n",
    "\n",
    "\n",
    "arr = np.array((6,49,7))\n",
    "\n",
    "\n",
    "print(\"Array with Rank 1: \\n\",arr)\n",
    "\n",
    "print(\"fetch first element: \\n\",arr[0])\n",
    "\n",
    "print(\"fetch second element: \\n\",arr[1])\n",
    "\n",
    "print(\"fetch third element: \\n\",arr[2])\n",
    "\n",
    "\n",
    "arr = np.array([6,49,'ddsdss'])\n",
    "\n",
    "print(\"Array with Rank 1: \\n\",arr)\n",
    "\n",
    "print(\"fetch first element: \\n\",arr[0])\n",
    "\n",
    "print(\"fetch second element: \\n\",arr[1])\n",
    "\n",
    "print(\"fetch third element: \\n\",arr[2])\n",
    "\n",
    "\n",
    "arr = np.array((6,7))\n",
    "\n",
    "print(\"Array with Rank 1: \\n\",arr)\n",
    "\n"
   ]
  },
  {
   "cell_type": "code",
   "execution_count": 18,
   "id": "fc3a40f9",
   "metadata": {},
   "outputs": [
    {
     "name": "stdout",
     "output_type": "stream",
     "text": [
      "Initial Array: \n",
      "[[-1.   2.   0.   4. ]\n",
      " [ 4.  -0.5  6.   0. ]\n",
      " [ 2.6  0.   7.   8. ]\n",
      " [ 3.  -7.   4.   2. ]]\n",
      "------------------------------\n",
      "[[-1.   2.   0.   4. ]\n",
      " [ 4.  -0.5  6.   0. ]\n",
      " [ 2.6  0.   7.   8. ]\n",
      " [ 3.  -7.   4.   2. ]]\n"
     ]
    }
   ],
   "source": [
    "# Python program to demonstrate\n",
    "# indexing in numpy array\n",
    "import numpy as np\n",
    " \n",
    "# Initial Array\n",
    "arr = np.array([[-1, 2, 0, 4],\n",
    "                [4, -0.5, 6, 0],\n",
    "                [2.6, 0, 7, 8],\n",
    "                [3, -7, 4, 2.0]])\n",
    "\n",
    "print(\"Initial Array: \")\n",
    "print(arr)\n",
    "print ('------------------------------')\n",
    "sliced_arr = arr[:4]\n",
    "print(sliced_arr)\n"
   ]
  },
  {
   "cell_type": "code",
   "execution_count": 28,
   "id": "a87b6c86",
   "metadata": {},
   "outputs": [
    {
     "name": "stdout",
     "output_type": "stream",
     "text": [
      " adding 1 to each elements of arr a  [[2 3]\n",
      " [4 5]]\n",
      " multiply by 2 in array b  [[8 6]\n",
      " [4 2]]\n",
      "\n",
      "Sum of all array elements:  10\n",
      "\n",
      "Array sum:\n",
      " [5 5]\n"
     ]
    }
   ],
   "source": [
    "# Python program to demonstrate\n",
    "# basic operations on single array\n",
    "import numpy as np\n",
    "\n",
    "# Defining Array 1\n",
    "a = np.array([[1, 2],\n",
    "              [3, 4]])\n",
    " \n",
    "# Defining Array 2\n",
    "b = np.array([[4, 3],\n",
    "              [2, 1]])\n",
    "\n",
    "print(' adding 1 to each elements of arr a ', a+1)\n",
    "\n",
    "print(' multiply by 2 in array b ', b*2)\n",
    "\n",
    "\n",
    "# sum of array elements\n",
    "# Performing Unary operations\n",
    "print (\"\\nSum of all array \"\n",
    "       \"elements: \", a.sum())\n",
    "\n",
    "print (\"\\nArray sum:\\n\", a[0] + b[0])\n",
    " "
   ]
  },
  {
   "cell_type": "code",
   "execution_count": 29,
   "id": "9b8394b0",
   "metadata": {},
   "outputs": [
    {
     "name": "stdout",
     "output_type": "stream",
     "text": [
      "Empty List\n"
     ]
    }
   ],
   "source": [
    "#check if list is empty\n",
    "def Enquiry(lis1):\n",
    "    if len(lis1)==0:\n",
    "        return 0\n",
    "    else:\n",
    "        return 1\n",
    "\n",
    "\n",
    "lis1 = []\n",
    "if Enquiry(lis1):\n",
    "    print (\"The list is not empty\")\n",
    "else:\n",
    "    print(\"Empty List\")\n"
   ]
  },
  {
   "cell_type": "code",
   "execution_count": 30,
   "id": "c1bfa751",
   "metadata": {},
   "outputs": [
    {
     "name": "stdout",
     "output_type": "stream",
     "text": [
      "Empty List\n"
     ]
    }
   ],
   "source": [
    "#check if list is empty\n",
    "def Enquiry(lis1):\n",
    "    if not lis1:\n",
    "        return 0\n",
    "    else:\n",
    "        return 1\n",
    "\n",
    "\n",
    "lis1 = []\n",
    "if Enquiry(lis1):\n",
    "    print (\"The list is not empty\")\n",
    "else:\n",
    "    print(\"Empty List\")\n"
   ]
  },
  {
   "cell_type": "code",
   "execution_count": 3,
   "id": "db2ae68c",
   "metadata": {},
   "outputs": [
    {
     "name": "stdout",
     "output_type": "stream",
     "text": [
      "Empty tuple\n"
     ]
    }
   ],
   "source": [
    "#check if list is empty\n",
    "def Enquiry(tuple):\n",
    "    if not tuple:\n",
    "        return 0\n",
    "    else:\n",
    "        return 1\n",
    "\n",
    "\n",
    "tuple = ()\n",
    "if Enquiry(tuple):\n",
    "    print (\"The list is not tuple\")\n",
    "else:\n",
    "    print(\"Empty tuple\")"
   ]
  },
  {
   "cell_type": "code",
   "execution_count": 5,
   "id": "153dc716",
   "metadata": {},
   "outputs": [
    {
     "name": "stdout",
     "output_type": "stream",
     "text": [
      "The list is not dic\n"
     ]
    }
   ],
   "source": [
    "#check if list is empty\n",
    "def Enquiry(dic):\n",
    "    if not dic:\n",
    "        return True\n",
    "    else:\n",
    "        return False\n",
    "\n",
    "\n",
    "dic = {}\n",
    "if Enquiry(dic):\n",
    "    print (\"The dic is not dic\")\n",
    "else:\n",
    "    print(\"Empty dic\")"
   ]
  },
  {
   "cell_type": "code",
   "execution_count": 15,
   "id": "a306dc2a",
   "metadata": {},
   "outputs": [
    {
     "name": "stdout",
     "output_type": "stream",
     "text": [
      "1\n"
     ]
    }
   ],
   "source": [
    "import numpy\n",
    "\n",
    "# Driver Code\n",
    "lis1 = (1)\n",
    "\n",
    "print(numpy.array(lis1).size)\n"
   ]
  },
  {
   "cell_type": "code",
   "execution_count": 30,
   "id": "5d94567b",
   "metadata": {},
   "outputs": [
    {
     "name": "stdout",
     "output_type": "stream",
     "text": [
      "[ 1  3 43 53]\n",
      "{1, 3, 53, 43}\n"
     ]
    }
   ],
   "source": [
    "import numpy\n",
    "\n",
    "# Driver Code\n",
    "lis1 = [1,3,53,43,3,3]\n",
    "\n",
    "print(numpy.unique(lis1))\n",
    "\n",
    "Myset = set(lis1)\n",
    "print(tup)\n"
   ]
  },
  {
   "cell_type": "code",
   "execution_count": 31,
   "id": "d03a2f25",
   "metadata": {},
   "outputs": [
    {
     "name": "stdout",
     "output_type": "stream",
     "text": [
      "6\n",
      "24\n"
     ]
    }
   ],
   "source": [
    "from functools import reduce\n",
    "list1 = [1, 2, 3]\n",
    "list2 = [3, 2, 4]\n",
    " \n",
    " \n",
    "result1 = reduce((lambda x, y: x * y), list1)\n",
    "result2 = reduce((lambda x, y: x * y), list2)\n",
    "print(result1)\n",
    "print(result2)"
   ]
  },
  {
   "cell_type": "code",
   "execution_count": 32,
   "id": "fb9274d2",
   "metadata": {},
   "outputs": [
    {
     "name": "stdout",
     "output_type": "stream",
     "text": [
      "246\n"
     ]
    }
   ],
   "source": [
    "A='1234567'\n",
    "print(A[1::2])"
   ]
  },
  {
   "cell_type": "code",
   "execution_count": 33,
   "id": "b7edfefb",
   "metadata": {},
   "outputs": [
    {
     "name": "stdout",
     "output_type": "stream",
     "text": [
      "5\n"
     ]
    }
   ],
   "source": [
    "Name=\"Michael Jackson\"\n",
    "print(Name.find('el'))"
   ]
  },
  {
   "cell_type": "code",
   "execution_count": 34,
   "id": "ed504fed",
   "metadata": {},
   "outputs": [
    {
     "name": "stdout",
     "output_type": "stream",
     "text": [
      "12\n"
     ]
    }
   ],
   "source": [
    "A='1'\n",
    "B='2'\n",
    "print(A+B)"
   ]
  },
  {
   "cell_type": "code",
   "execution_count": 35,
   "id": "89b3573b",
   "metadata": {},
   "outputs": [
    {
     "name": "stdout",
     "output_type": "stream",
     "text": [
      "YOU ARE WRONG\n"
     ]
    }
   ],
   "source": [
    "F=\"You are wrong\"\n",
    "print(F.upper())"
   ]
  },
  {
   "cell_type": "code",
   "execution_count": 36,
   "id": "50d76495",
   "metadata": {},
   "outputs": [
    {
     "name": "stdout",
     "output_type": "stream",
     "text": [
      "{'B', 'C', 'A'}\n"
     ]
    }
   ],
   "source": [
    "V={'A','B'}\n",
    "V.add('C')\n",
    "print(V)"
   ]
  },
  {
   "cell_type": "code",
   "execution_count": 37,
   "id": "180e8f50",
   "metadata": {},
   "outputs": [
    {
     "name": "stdout",
     "output_type": "stream",
     "text": [
      "{'B', 'C', 'A'}\n"
     ]
    }
   ],
   "source": [
    "V={'A','B','C' }\n",
    "V.add('C')\n",
    "print(V)"
   ]
  },
  {
   "cell_type": "code",
   "execution_count": 39,
   "id": "cc662c7f",
   "metadata": {},
   "outputs": [
    {
     "name": "stdout",
     "output_type": "stream",
     "text": [
      "0\n",
      "1\n",
      "2\n"
     ]
    }
   ],
   "source": [
    "for n in range(3):\n",
    "    print(n)"
   ]
  },
  {
   "cell_type": "code",
   "execution_count": 41,
   "id": "faa3a6d3",
   "metadata": {},
   "outputs": [
    {
     "name": "stdout",
     "output_type": "stream",
     "text": [
      "11\n",
      "22\n",
      "33\n"
     ]
    }
   ],
   "source": [
    "A=['1','2','3']\n",
    "\n",
    "for a in A:\n",
    "    print(2*a)\n"
   ]
  },
  {
   "cell_type": "code",
   "execution_count": 45,
   "id": "a107f2df",
   "metadata": {},
   "outputs": [],
   "source": [
    "class Points(object):\n",
    "\n",
    "    def __init__(self,x,y):\n",
    "        self.x=x\n",
    "        self.y=y\n",
    "\n",
    "    def print_point(self):\n",
    "\n",
    "        print('x=',self.x,'y=',self.y)"
   ]
  },
  {
   "cell_type": "code",
   "execution_count": 14,
   "id": "654d15da",
   "metadata": {},
   "outputs": [
    {
     "data": {
      "text/plain": [
       "2"
      ]
     },
     "execution_count": 14,
     "metadata": {},
     "output_type": "execute_result"
    }
   ],
   "source": [
    "from statistics import mode\n",
    "mode([2,3,5,7])\n"
   ]
  },
  {
   "cell_type": "code",
   "execution_count": null,
   "id": "0bd1f064",
   "metadata": {},
   "outputs": [],
   "source": []
  }
 ],
 "metadata": {
  "kernelspec": {
   "display_name": "Python 3",
   "language": "python",
   "name": "python3"
  },
  "language_info": {
   "codemirror_mode": {
    "name": "ipython",
    "version": 3
   },
   "file_extension": ".py",
   "mimetype": "text/x-python",
   "name": "python",
   "nbconvert_exporter": "python",
   "pygments_lexer": "ipython3",
   "version": "3.8.8"
  },
  "toc": {
   "base_numbering": 1,
   "nav_menu": {},
   "number_sections": true,
   "sideBar": true,
   "skip_h1_title": false,
   "title_cell": "Table of Contents",
   "title_sidebar": "Contents",
   "toc_cell": false,
   "toc_position": {},
   "toc_section_display": true,
   "toc_window_display": false
  }
 },
 "nbformat": 4,
 "nbformat_minor": 5
}
