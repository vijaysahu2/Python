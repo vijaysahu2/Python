{
 "cells": [
  {
   "cell_type": "code",
   "execution_count": 67,
   "id": "51e34ca5",
   "metadata": {},
   "outputs": [
    {
     "name": "stdout",
     "output_type": "stream",
     "text": [
      "False\n",
      "vijay\n",
      "32\n",
      "Canis familiaris\n",
      "vijay is 32 years old\n",
      "vijay says says hi\n",
      "Miles is 4 years old\n"
     ]
    }
   ],
   "source": [
    "class Dog:\n",
    "    # Class attribute\n",
    "    species = \"Canis familiaris\"\n",
    "    def __init__(self, name, age):\n",
    "        self.name = name\n",
    "        self.age = age\n",
    "    \n",
    "    def description(self):\n",
    "        return f\"{self.name} is {self.age} years old\"\n",
    "        #return (self.name ,self.age)\n",
    "\n",
    "    def speak(self, sound):\n",
    "        return f\"{self.name} says {sound}\"\n",
    "        #return (self.name,sound)\n",
    "    def __str__(self):\n",
    "        return f\"{self.name} is {self.age} years old\"\n",
    "\n",
    "a= Dog('vijay',32)\n",
    "b= Dog('vijay',32)\n",
    "print(a==b)\n",
    "print(a.name)\n",
    "print(a.age)\n",
    "print(a.species)\n",
    "\n",
    "print(a.description())\n",
    "print(a.speak('says hi'))\n",
    "\n",
    "miles = Dog(\"Miles\", 4)\n",
    "\n",
    "print(miles)"
   ]
  },
  {
   "cell_type": "code",
   "execution_count": 71,
   "id": "6b552bbe",
   "metadata": {},
   "outputs": [
    {
     "name": "stdout",
     "output_type": "stream",
     "text": [
      " The blue car has 20000 miles\n",
      " The red car has 30000 miles\n"
     ]
    }
   ],
   "source": [
    "#Create a car class\n",
    "class car():\n",
    "    def __init__(self,color,mileage):\n",
    "        self.color = color\n",
    "        self.mileage = mileage\n",
    "    \n",
    "    def __str__(self):\n",
    "        return f\" The {self.color} car has {self.mileage} miles\"\n",
    "\n",
    "        \n",
    "\n",
    "blue = car('blue',20000)\n",
    "red = car('red',30000)\n",
    "\n",
    "print(blue)\n",
    "print(red)\n"
   ]
  },
  {
   "cell_type": "code",
   "execution_count": null,
   "id": "0c230650",
   "metadata": {},
   "outputs": [],
   "source": []
  }
 ],
 "metadata": {
  "kernelspec": {
   "display_name": "Python 3",
   "language": "python",
   "name": "python3"
  },
  "language_info": {
   "codemirror_mode": {
    "name": "ipython",
    "version": 3
   },
   "file_extension": ".py",
   "mimetype": "text/x-python",
   "name": "python",
   "nbconvert_exporter": "python",
   "pygments_lexer": "ipython3",
   "version": "3.8.8"
  }
 },
 "nbformat": 4,
 "nbformat_minor": 5
}
