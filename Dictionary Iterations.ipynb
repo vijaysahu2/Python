{
 "cells": [
  {
   "cell_type": "code",
   "execution_count": 43,
   "id": "ef6a1149",
   "metadata": {},
   "outputs": [
    {
     "name": "stdout",
     "output_type": "stream",
     "text": [
      "Hello  ::  7\n",
      "hi  ::  10\n",
      "there  ::  45\n",
      "at  ::  23\n",
      "this  ::  77\n"
     ]
    }
   ],
   "source": [
    "#Iterate over a dictionary using for loop over keys\n",
    "\n",
    "word_freq = {   \"Hello\" : 7,\n",
    "                \"hi\" : 10,\n",
    "                \"there\" : 45,\n",
    "                \"at\" : 23,\n",
    "                \"this\" : 77 }\n",
    "\n",
    "for key in word_freq:\n",
    "    value = word_freq[key]\n",
    "    print(key, \" :: \", value)\n",
    "    #print(key)\n",
    "   # print(word_freq[key])"
   ]
  },
  {
   "cell_type": "code",
   "execution_count": 47,
   "id": "08abffd8",
   "metadata": {},
   "outputs": [
    {
     "name": "stdout",
     "output_type": "stream",
     "text": [
      "Hello : 7\n",
      "hi : 10\n",
      "there : 45\n",
      "at : 23\n",
      "this : 77\n",
      "---------------------------------\n",
      "('Hello', 7)\n",
      "('hi', 10)\n",
      "('there', 45)\n",
      "('at', 23)\n",
      "('this', 77)\n",
      "---------------------------------\n",
      "('Hello', 7) : 77\n",
      "('hi', 10) : 77\n",
      "('there', 45) : 77\n",
      "('at', 23) : 77\n",
      "('this', 77) : 77\n"
     ]
    }
   ],
   "source": [
    "#Iterate over key-value pairs of dictionary using dict.items()\n",
    "\n",
    "word_freq = {   \"Hello\" : 7,\n",
    "                \"hi\" : 10,\n",
    "                \"there\" : 45,\n",
    "                \"at\" : 23,\n",
    "                \"this\" : 77 }\n",
    "for key,value in word_freq.items():\n",
    "    print(key,':',value)\n",
    "    \n",
    "print('---------------------------------')   \n",
    "\n",
    "for key in word_freq.items():\n",
    "    print(key)\n",
    "    \n",
    "print('---------------------------------')   \n",
    "\n",
    "for key in word_freq.items():\n",
    "    #value = word_freq(key)\n",
    "    print(key,':',value)"
   ]
  },
  {
   "cell_type": "code",
   "execution_count": null,
   "id": "c2dcd0a2",
   "metadata": {},
   "outputs": [],
   "source": []
  }
 ],
 "metadata": {
  "kernelspec": {
   "display_name": "Python 3",
   "language": "python",
   "name": "python3"
  },
  "language_info": {
   "codemirror_mode": {
    "name": "ipython",
    "version": 3
   },
   "file_extension": ".py",
   "mimetype": "text/x-python",
   "name": "python",
   "nbconvert_exporter": "python",
   "pygments_lexer": "ipython3",
   "version": "3.8.8"
  }
 },
 "nbformat": 4,
 "nbformat_minor": 5
}
