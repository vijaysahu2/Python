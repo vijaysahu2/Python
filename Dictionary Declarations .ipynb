{
 "cells": [
  {
   "cell_type": "code",
   "execution_count": 19,
   "id": "826e04f7",
   "metadata": {},
   "outputs": [
    {
     "name": "stdout",
     "output_type": "stream",
     "text": [
      "{}\n",
      "{}\n",
      "{'a': 2, 'b': 'ggjh'}\n",
      "{'a': 10, 'b': 30}\n",
      "{1: 6, 5: 2, 3: 2}\n",
      "{'Hello': 0, 'hi': 0, 'there': 0, 'at': 0, 'this': 0}\n",
      "{'Hello': 7, 'hi': 10, 'there': 45, 'at': 23, 'this': 77}\n"
     ]
    }
   ],
   "source": [
    "emptydict = {}\n",
    "print(emptydict)\n",
    "\n",
    "emptydict1 = dict()\n",
    "print(emptydict1)\n",
    "\n",
    "emptydict2 = {\"a\":2,'b':3,'b':'ggjh'}\n",
    "print(emptydict2)\n",
    "\n",
    "emptydict3 = dict(a=10,b=30)\n",
    "print(emptydict3)\n",
    "\n",
    "listoftouples =[(1,6),(5,2),(3,2)]\n",
    "\n",
    "print(dict(listoftouples))\n",
    "\n",
    "listofStrings = [\"Hello\", \"hi\", \"there\", \"at\", \"this\"]\n",
    "print(dict.fromkeys(listofStrings,0 ))\n",
    "\n",
    "# List of strings\n",
    "listofStrings = [\"Hello\", \"hi\", \"there\", \"at\", \"this\"]\n",
    "# List of ints\n",
    "listofInts = [7, 10, 45, 23, 77]\n",
    "\n",
    "wordFrequency = dict( zip(listofStrings,listofInts ))\n",
    "\n",
    "print(wordFrequency)"
   ]
  },
  {
   "cell_type": "code",
   "execution_count": null,
   "id": "9fed5768",
   "metadata": {},
   "outputs": [],
   "source": []
  }
 ],
 "metadata": {
  "kernelspec": {
   "display_name": "Python 3",
   "language": "python",
   "name": "python3"
  },
  "language_info": {
   "codemirror_mode": {
    "name": "ipython",
    "version": 3
   },
   "file_extension": ".py",
   "mimetype": "text/x-python",
   "name": "python",
   "nbconvert_exporter": "python",
   "pygments_lexer": "ipython3",
   "version": "3.8.8"
  }
 },
 "nbformat": 4,
 "nbformat_minor": 5
}
