{
 "cells": [
  {
   "cell_type": "code",
   "execution_count": null,
   "id": "b461a0dc",
   "metadata": {},
   "outputs": [],
   "source": [
    "pwd"
   ]
  },
  {
   "cell_type": "code",
   "execution_count": null,
   "id": "80838dcf",
   "metadata": {},
   "outputs": [],
   "source": [
    "import calendar\n",
    "print(calendar.month(21,9))\n"
   ]
  },
  {
   "cell_type": "code",
   "execution_count": null,
   "id": "00a0b4a8",
   "metadata": {},
   "outputs": [],
   "source": [
    "#Check speedtest module functions\n",
    "import speedtest\n",
    "wifi  = speedtest.Speedtest()\n",
    "#print(\"Wifi Download Speed is \", wifi.download())\n",
    "#print(\"Wifi Upload Speed is \", wifi.upload())\n",
    "#print(wifi.servers)\n",
    "#print(wifi.config)\n",
    "#print(wifi.best.)\n",
    "#print(wifi.closest)\n",
    "#print(wifi.config.)\n",
    "#print(wifi.get_best_server)\n",
    "#print(wifi.get_config)\n",
    "#print(wifi.set_mini_server)\n",
    "print(wifi.results.json)"
   ]
  },
  {
   "cell_type": "code",
   "execution_count": null,
   "id": "3e7f0403",
   "metadata": {},
   "outputs": [],
   "source": [
    "## This is to show Jason data in Tabular format\n",
    "import json\n",
    "import ast\n",
    "import pandas as pd\n",
    "mystr = \"\"\"\n",
    "{'tags': [{'name': 'Temperature1',\n",
    "  'results': [{'attributes': {'Location': ['3rd Floor'],\n",
    "  'Sensor-Serial-Number': ['PT100']},\n",
    "  'groups': [{'name': 'type', 'type': 'number'}],\n",
    "  'values': [[1460958592800, 24.2, 3],\n",
    "  [1460958602800, 24.1, 1],\n",
    "  [1460958612800, 23.9, 1],\n",
    "  [1460958622800, 24.2, 1],\n",
    "  [1460958632800, 24.5, 1],\n",
    "  [1460958642800, 24.9, 1],\n",
    "  [1460958652800, 24.6, 1],\n",
    "  [1460958662800, 24.7, 1],\n",
    "  [1460958672800, 24.7, 1]]}],\n",
    " 'stats': {'rawCount': 9}}]}\n",
    "\"\"\"\n",
    "val = ast.literal_eval(mystr)\n",
    "print(val)\n",
    "#val1 = json.loads(json.dumps(val))\n",
    "#val2 = val1['tags'][0]['results'][0]['values']\n",
    "#print(pd.DataFrame(val2, columns=[\"time\", \"temperature\", \"quality\"]))"
   ]
  },
  {
   "cell_type": "code",
   "execution_count": null,
   "id": "065f5e18",
   "metadata": {},
   "outputs": [],
   "source": [
    "fibonaciSeries = [0,1,\"x\"]\n",
    "for i in range (2,15):\n",
    "   # print (i)\n",
    "    fibonaciSeries[i]=fibonaciSeries[i-1]+fibonaciSeries[i-2]\n",
    "    if i <50 : \n",
    "            fibonaciSeries.append(fibonaciSeries[i])\n",
    "            if i==50:\n",
    "                break\n",
    "            print(fibonaciSeries)         \n",
    "#fibonaciSeries.pop()\n",
    "#print(fibonaciSeries)\n"
   ]
  },
  {
   "cell_type": "code",
   "execution_count": null,
   "id": "64eaef14",
   "metadata": {},
   "outputs": [],
   "source": [
    "# #Question: Read the given file:\n",
    "#1.\tShow the first five deals made by host ‘Akshay’ & 'Rahul' separately.\n",
    "#2.\tShow the chart of the room types in whole data to understand better that which room type  is most preferred.\n",
    "#3.\tStore the results of first and second steps in the separate excel file.\n",
    "\n",
    "import pandas as pd\n",
    "import matplotlib.pyplot as plt\n",
    "\n",
    "\n",
    "#1.\tShow the first five deals made by host ‘Akshay’ & 'Rahul' separately.\n",
    "\n",
    "\n",
    "print(\"Show the first five deals made by host ‘Akshay’ & 'Rahul' separately.\")\n",
    "\n",
    "data = pd.read_csv (r'C://Users//vijay//Downloads//Insaid Assignment//data.csv')   \n",
    "dataframe = pd.DataFrame(data, columns= ['host_name','room_type','last_review'])\n",
    "#dataframe = pd.DataFrame(data)\n",
    "#print(dataframe)\n",
    "\n",
    "# selecting rows based on condition\n",
    "Akshay_rslt_df = dataframe[dataframe['host_name'] == \"Akshay\"].head()\n",
    "print('\\n Akshay Result dataframe :\\n', Akshay_rslt_df)\n",
    "\n",
    "# selecting rows based on condition\n",
    "Rahul_rslt_df = dataframe[dataframe['host_name'] == \"Rahul\"].head()\n",
    "print('\\n Rahul Result dataframe :\\n', Rahul_rslt_df)\n",
    "\n",
    "#2.\tShow the chart of the room types in whole data to understand better that which room type  is most preferred.\n",
    "\n",
    "\n",
    "print('Show the chart of the room types in whole data to understand better that which room type  is most preferred.')\n",
    "\n",
    "df_roomType = pd.DataFrame(data, columns= ['room_type'])\n",
    "gk = df_roomType.value_counts()\n",
    "\n",
    "gk.plot(x ='room_type',kind = 'bar')\n",
    "plt.show()\n",
    "\n",
    "\n"
   ]
  },
  {
   "cell_type": "code",
   "execution_count": null,
   "id": "a2b37f23",
   "metadata": {},
   "outputs": [],
   "source": [
    "from docx2pdf import convert\n",
    "import os\n",
    "\n",
    "path = os.listdir(\"C://Users//vijay//Downloads//Vijay Sahu Resume//\")\n",
    "#convert(\"C://Users//vijay//Downloads//Vijay Sahu Resume//VIJAY SAHU_Profile.docx\",\"C://Users//vijay//Downloads//Vijay Sahu Resume//VIJAY SAHU_Profile.pdf\")\n",
    "convert(\"C:/Users/vijay/Downloads/Vijay Sahu Resume/VIJAY SAHU_Profile.docx\",\"C:/Users/vijay/Downloads/Vijay Sahu Resume/VIJAY SAHU_Profile.pdf\")\n",
    "print(path)\n"
   ]
  },
  {
   "cell_type": "code",
   "execution_count": null,
   "id": "c2048126",
   "metadata": {},
   "outputs": [],
   "source": [
    "num=int(input(\"Enter The Number:\"))   \n",
    "\n",
    "if isinstance(num, int): \n",
    "    for count in range (1,11):\n",
    "        table= num*count\n",
    "        \n",
    "        print (num,\"X\",count,\"=\",table )"
   ]
  },
  {
   "cell_type": "code",
   "execution_count": null,
   "id": "7f80385e",
   "metadata": {},
   "outputs": [],
   "source": [
    "num=int(input(\"Enter The Number:\"))   \n",
    "\n",
    "if isinstance(num, int): \n",
    "    for count in range (1,11):\n",
    "        table= num*count\n",
    "        \n",
    "        print (num,\"X\",count,\"=\",table )"
   ]
  },
  {
   "cell_type": "code",
   "execution_count": null,
   "id": "c142793f",
   "metadata": {},
   "outputs": [],
   "source": [
    "\n",
    "#d =num.isnumeric()\n",
    "while True:\n",
    "    num=input(\"Enter The Number:\")  \n",
    "    if  num.isnumeric():\n",
    "        for count in range (1,11):\n",
    "            table= int(num)*count\n",
    "            print (num,\"X\",count,\"=\",table )\n",
    "        break\n",
    "    else:\n",
    "        print('You have not entered the correct no. please enter again')\n"
   ]
  },
  {
   "cell_type": "code",
   "execution_count": null,
   "id": "9fea98ef",
   "metadata": {},
   "outputs": [],
   "source": [
    "while True:\n",
    "    data = input(\"Pick an answer from A to D:\")\n",
    "    if data.lower() not in ('a', 'b', 'c', 'd'):\n",
    "        print(\"Not an appropriate choice.\")\n",
    "    else:\n",
    "        break"
   ]
  },
  {
   "cell_type": "code",
   "execution_count": null,
   "id": "7ae5fa45",
   "metadata": {},
   "outputs": [],
   "source": [
    "import numpy as np\n",
    "from scipy.stats import norm\n",
    "import matplotlib.pyplot as plt\n",
    "import seaborn as sns\n",
    "\n",
    "mean_height = 5.5*12\n",
    "stdev_height = 1*12\n",
    "target = 6*12\n",
    "\n",
    "mean_height + np.random.normal()*stdev_height\n",
    "\n",
    "height_surveys = np.zeros((10000,10))\n",
    "for i in range(height_surveys.shape[0]):\n",
    "    for j in range(height_surveys.shape[1]):\n",
    "        height_surveys[i,j] = mean_height +\\\n",
    "                              np.random.normal()*stdev_height\n",
    "print('Mean Height:', round(np.mean(height_surveys)/12,1), 'feet')\n",
    "print('Standard Deviation of Height:', \n",
    "      round(np.var(height_surveys)**0.5/12,1), 'foot')\n",
    "\n",
    "# Histogram that shows the distribution for the mean of all surveys\n",
    "fig, ax = plt.subplots(figsize=(12,8))\n",
    "sns.distplot(np.mean(height_surveys,axis=1), \n",
    "             kde=False, label='Height')\n",
    "ax.set_xlabel(\"Height in Inches\",fontsize=16)\n",
    "ax.set_ylabel(\"Frequency\",fontsize=16)\n",
    "plt.axvline(target, color='red')\n",
    "plt.legend()\n",
    "plt.tight_layout()\n",
    "# I picked sample number 35 at random to plot earlier\n",
    "np.var(height_surveys[35])**0.5 # = 12.5\n",
    "# Compare mean of all surveys with inferred distribution\n",
    "fig, ax = plt.subplots(figsize=(12,8))\n",
    "# Plot histogram of 10,000 sample means\n",
    "sns.distplot(np.mean(height_surveys,axis=1), \n",
    "             kde=False, label='True')\n",
    "# Calculate stats using single sample\n",
    "sample_mean = np.mean(height_surveys[35])\n",
    "sample_stdev = np.var(height_surveys[35])**0.5\n",
    "# Calculate standard error\n",
    "std_error = sample_stdev/(height_surveys[35].shape[0])**0.5\n",
    "# Infer distribution using single sample\n",
    "inferred_dist = [sample_mean + np.random.normal()*\\\n",
    "                 std_error for i in range(10000)]\n",
    "# Plot histogram of inferred distribution\n",
    "sns.distplot(inferred_dist, kde=False, \n",
    "             label='Inferred', color='red')\n",
    "ax.set_xlabel(\"Height in Inches\",fontsize=16)\n",
    "ax.set_ylabel(\"Frequency\",fontsize=16)\n",
    "plt.legend()\n",
    "plt.tight_layout()\n",
    "\n",
    "# Check out the distribution of the sample standard deviations\n",
    "vol_dist = np.var(height_surveys, axis=1)**0.5\n",
    "# Histogram that shows the distribution of sample stdev\n",
    "fig, ax = plt.subplots(figsize=(12,8))\n",
    "sns.distplot(vol_dist, kde=False, \n",
    "             label='Sample Stdev Distribution')\n",
    "ax.set_xlabel(\"Inches\",fontsize=16)\n",
    "ax.set_ylabel(\"Frequency\",fontsize=16)\n",
    "plt.legend()\n",
    "plt.tight_layout()\n",
    "# Simulation method for answering the question\n",
    "# Generate 10,000 random variables\n",
    "inferred_dist = [sample_mean + np.random.normal()*\\\n",
    "                 std_error for i in range(10000)]\n",
    "# Figure out how many are > than target\n",
    "sum([1 for i in inferred_dist if i>=target])/len(inferred_dist)"
   ]
  },
  {
   "cell_type": "code",
   "execution_count": null,
   "id": "4a87ad54",
   "metadata": {},
   "outputs": [],
   "source": [
    "def solution(A): \n",
    " \n",
    "    m = max(A)  \n",
    "    if m < 1:\n",
    " \n",
    "        # In case all values in our array are negative\n",
    "        return 1\n",
    "    if len(A) == 1:\n",
    " \n",
    "        # If it contains only one element\n",
    "        return 2 if A[0] == 1 else 1\n",
    "    l = [0] * m\n",
    "    for i in range(len(A)):\n",
    "        if A[i] > 0:\n",
    "            if l[A[i] - 1] != 1:\n",
    " \n",
    "                # Changing the value status at the index of our list\n",
    "                l[A[i] - 1] = 1\n",
    "    for i in range(len(l)):\n",
    " \n",
    "        # Encountering first 0, i.e, the element with least value\n",
    "        if l[i] == 0:\n",
    "            return i + 1\n",
    "            # In case all values are filled between 1 and m\n",
    "    return i + 2\n",
    "\n",
    "A = [-1, -2,1,2,3,4,32130123]\n",
    "print(solution(A))"
   ]
  },
  {
   "cell_type": "code",
   "execution_count": null,
   "id": "6c133b2e",
   "metadata": {},
   "outputs": [],
   "source": [
    "def printPairs(arr, n):\n",
    "     \n",
    "    s = set()\n",
    "    ret = []\n",
    "     \n",
    "    # For each element of array.\n",
    "    for i in arr:\n",
    "        if abs(i) in s:\n",
    "            ret.append(abs(i))\n",
    "        else:\n",
    "            s.add(abs(i))\n",
    "             \n",
    "    ret.sort()\n",
    "     \n",
    "    for i in range(0, len(ret)):\n",
    "        print(-ret[i], \"\", ret[i], end = \" \")\n",
    " \n",
    "# Driver Code\n",
    "if __name__ == \"__main__\":\n",
    "     \n",
    "    arr = [ 4, 8, 9, -4, 1, -1, -8, -9 ]\n",
    "    n = len(arr)\n",
    "     \n",
    "    printPairs(arr, n)"
   ]
  },
  {
   "cell_type": "code",
   "execution_count": null,
   "id": "6e722ebf",
   "metadata": {},
   "outputs": [],
   "source": [
    "def firstMissingPositive(arr, n):\n",
    "     \n",
    "    ptr = 0\n",
    "     \n",
    "    # Check if 1 is present in array or not\n",
    "    for i in range(n):\n",
    "        if arr[i] == 1:\n",
    "            ptr = 1\n",
    "            break\n",
    "         \n",
    "    # If 1 is not present\n",
    "    if ptr == 0:\n",
    "        return(1)\n",
    "         \n",
    "    # Changing values to 1\n",
    "    for i in range(n):\n",
    "        if arr[i] <= 0 or arr[i] > n:\n",
    "            arr[i] = 1\n",
    "             \n",
    "    # Updating indices according to values\n",
    "    for i in range(n):\n",
    "        arr[(arr[i] - 1) % n] += n\n",
    "         \n",
    "    # Finding which index has value less than n\n",
    "    for i in range(n):\n",
    "        if arr[i] <= n:\n",
    "            return(i + 1)\n",
    " \n",
    "    # If array has values from 1 to n\n",
    "    return(n + 1)\n",
    " \n",
    "# Driver Code\n",
    " \n",
    "# Given array\n",
    "A = [ 2, 3, -7, 6, 8, 1, -10, 15 ]\n",
    " \n",
    "# Size of the array\n",
    "N = len(A)\n",
    " \n",
    "# Function call\n",
    "print(firstMissingPositive(A, N))\n",
    " \n",
    "# This code is contributed by shailjapriya"
   ]
  },
  {
   "cell_type": "code",
   "execution_count": 1,
   "id": "3441acbc",
   "metadata": {},
   "outputs": [
    {
     "name": "stdout",
     "output_type": "stream",
     "text": [
      "None\n",
      "C:\\BigDataLocalSetup\\Spark\n",
      "C:\\BigDataLocalSetup\\Spark\n"
     ]
    }
   ],
   "source": [
    "import findspark\n",
    "print(findspark.init())\n",
    "print(findspark.find())\n",
    "import pyspark\n",
    "print(findspark.find())"
   ]
  },
  {
   "cell_type": "code",
   "execution_count": 2,
   "id": "cf8dc5c2",
   "metadata": {},
   "outputs": [],
   "source": [
    "from pyspark import SparkContext, SparkConf\n",
    "from pyspark.sql import SparkSession\n",
    "\n",
    "conf = pyspark.SparkConf().setAppName('appName').setMaster('local')\n",
    "#sc = pyspark.SparkContext(conf=conf)\n",
    "sc =  SparkContext.getOrCreate()\n",
    "spark = SparkSession(sc)"
   ]
  },
  {
   "cell_type": "code",
   "execution_count": 3,
   "id": "e9c4a46c",
   "metadata": {
    "scrolled": true
   },
   "outputs": [],
   "source": [
    "from pyspark.sql import SparkSession\n",
    "\n",
    "spark = SparkSession.builder.getOrCreate()"
   ]
  },
  {
   "cell_type": "code",
   "execution_count": 5,
   "id": "3dcb256c",
   "metadata": {},
   "outputs": [
    {
     "data": {
      "text/html": [
       "\n",
       "        <div>\n",
       "            <p><b>SparkContext</b></p>\n",
       "\n",
       "            <p><a href=\"http://DESKTOP-6L6AKRE:4041\">Spark UI</a></p>\n",
       "\n",
       "            <dl>\n",
       "              <dt>Version</dt>\n",
       "                <dd><code>v3.1.2</code></dd>\n",
       "              <dt>Master</dt>\n",
       "                <dd><code>local[*]</code></dd>\n",
       "              <dt>AppName</dt>\n",
       "                <dd><code>pyspark-shell</code></dd>\n",
       "            </dl>\n",
       "        </div>\n",
       "        "
      ],
      "text/plain": [
       "<SparkContext master=local[*] appName=pyspark-shell>"
      ]
     },
     "execution_count": 5,
     "metadata": {},
     "output_type": "execute_result"
    }
   ],
   "source": [
    "sc"
   ]
  },
  {
   "cell_type": "code",
   "execution_count": 4,
   "id": "e4bc6009",
   "metadata": {},
   "outputs": [
    {
     "data": {
      "text/plain": [
       "[1, 2]"
      ]
     },
     "execution_count": 4,
     "metadata": {},
     "output_type": "execute_result"
    }
   ],
   "source": [
    "def removeduplicate(my_list):\n",
    "    duplicates=[]\n",
    "    for i in my_list:\n",
    "         if my_list.count(i)>1:\n",
    "             if i not in duplicates:\n",
    "                 duplicates.append(i) \n",
    "    return(duplicates)\n",
    "\n",
    "my_list = [1,1,2,2]\n",
    "removeduplicate(my_list)"
   ]
  },
  {
   "cell_type": "code",
   "execution_count": null,
   "id": "4fb71831",
   "metadata": {},
   "outputs": [],
   "source": []
  }
 ],
 "metadata": {
  "kernelspec": {
   "display_name": "Python 3",
   "language": "python",
   "name": "python3"
  },
  "language_info": {
   "codemirror_mode": {
    "name": "ipython",
    "version": 3
   },
   "file_extension": ".py",
   "mimetype": "text/x-python",
   "name": "python",
   "nbconvert_exporter": "python",
   "pygments_lexer": "ipython3",
   "version": "3.8.8"
  },
  "toc": {
   "base_numbering": 1,
   "nav_menu": {},
   "number_sections": true,
   "sideBar": true,
   "skip_h1_title": false,
   "title_cell": "Table of Contents",
   "title_sidebar": "Contents",
   "toc_cell": false,
   "toc_position": {},
   "toc_section_display": true,
   "toc_window_display": true
  }
 },
 "nbformat": 4,
 "nbformat_minor": 5
}
